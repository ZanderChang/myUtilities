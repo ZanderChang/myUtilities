{
 "cells": [
  {
   "cell_type": "code",
   "execution_count": 24,
   "metadata": {},
   "outputs": [],
   "source": [
    "import os\n",
    "from tqdm import tqdm\n",
    "PASS_LOG = r'./PASS_LOG'\n",
    "CMP_CALLS = [\"strcmp\", \"strncmp\", \"strcasecmp\", \"strncasecmp\", \"memcmp\"]\n",
    "\n",
    "PROJECT = 'exiv2'\n",
    "VERSION = 0.26"
   ]
  },
  {
   "cell_type": "markdown",
   "metadata": {},
   "source": [
    "```\n",
    "CREATE (<node-name>:<label-name>)\n",
    "CREATE (<node-name>:<label-name1>:<label-name2>.....:<label-namen>)\n",
    "CREATE (<node1-name>:<label1-name>)-[(<relationship-name>:<relationship-label-name>)]->(<node2-name>:<label2-name>)\n",
    "MERGE (<node-name>:<label-name>\n",
    "{\n",
    "   <Property1-name>:<Property1-Value>\n",
    "   .....\n",
    "   <Propertyn-name>:<Propertyn-Value>\n",
    "})\n",
    "```"
   ]
  },
  {
   "cell_type": "code",
   "execution_count": 10,
   "metadata": {},
   "outputs": [
    {
     "name": "stderr",
     "output_type": "stream",
     "text": [
      "100%|██████████| 72/72 [00:00<00:00, 303.05it/s]\n"
     ]
    }
   ],
   "source": [
    "modSet = set() # 全部模块\n",
    "funcSet = set() # 全部函数\n",
    "blkSet = set() # 全部基本块\n",
    "mod2func = {} # 模块m: m中的全部函数\n",
    "func2blk = {} # 函数f：f的全部IR基本块 1:n（f为完整名称）\n",
    "blk2call = {} # 基本块b：b中调用的全部函数f 1:n（b为完整名称）\n",
    "blk2succ = {} # 基本块b：b所有的后续基本块（b为完整名称）\n",
    "func2call = {} # 函数f：f调用的全部函数 1:n（f为完整名称）\n",
    "func2cmp = {} # 函数f：f调用的全部cmp函数 1:n（f为完整名称）\n",
    "curFunc = None\n",
    "curBB = None\n",
    "isInHis = False # 当前函数是否已在funcSet中（防止重复处理）\n",
    "\n",
    "for f in tqdm(os.listdir(PASS_LOG)):\n",
    "    if f == 'RUNTIME_LOG':\n",
    "        continue\n",
    "    with open(os.path.join(PASS_LOG, f), 'r') as fp:\n",
    "        m = f[:-4]\n",
    "        modSet.add(m) # modSet\n",
    "        assert m not in mod2func, '[!] {} {}'.format(f, m)\n",
    "        mod2func[m] = []\n",
    "        lines = fp.readlines()\n",
    "        for line in lines:\n",
    "            line = line[:-1] # 去掉末尾的\\n\n",
    "            if '[F] ' in line:\n",
    "                curFunc = m + '|' + line[4:] # moduleName|funcName\n",
    "                if curFunc not in funcSet:\n",
    "                    funcSet.add(curFunc) # funcSet\n",
    "                    mod2func[m].append(line[4:]) # mod2func\n",
    "                else:\n",
    "                    raise Exception(\"[!] {}\".format(line)) # 同文件中函数重名？\n",
    "            elif '[BB] ' in line:\n",
    "                bbName = line.split(' ')[-1].split('|')[0]\n",
    "                if curFunc not in func2blk:\n",
    "                    func2blk[curFunc] = []\n",
    "                func2blk[curFunc].append(bbName) # func2blk\n",
    "                curBB = curFunc + '|' + bbName\n",
    "                blkSet.add(curBB) # blkSet\n",
    "                assert curBB not in blk2succ, '[!] {} {}'.format(curBB, line)\n",
    "                blk2succ[curBB] = line.split(' ')[-1].split('|')[1:] # blk2succ\n",
    "            elif '[BBC] ' in line:\n",
    "                bbCallFuncName = line[6:]\n",
    "                if curBB not in blk2call:\n",
    "                    blk2call[curBB] = []\n",
    "                blk2call[curBB].append(bbCallFuncName) # blk2call\n",
    "                if curFunc not in func2call:\n",
    "                    func2call[curFunc] = []\n",
    "                func2call[curFunc].append(bbCallFuncName) # func2call\n",
    "            elif any([n in line for n in CMP_CALLS]):\n",
    "                if curFunc not in func2cmp:\n",
    "                    func2cmp[curFunc] = []\n",
    "                func2cmp[curFunc].append(line) # func2cmp\n",
    "            else:\n",
    "#                 raise Exception(\"[!] {}\".format(line))\n",
    "                print(\"[!] {} {} {} {}\".format(f, curFunc, curBB, line))"
   ]
  },
  {
   "cell_type": "code",
   "execution_count": 59,
   "metadata": {},
   "outputs": [
    {
     "data": {
      "text/plain": [
       "<py2neo.database.Cursor at 0x7fffd6426588>"
      ]
     },
     "execution_count": 59,
     "metadata": {},
     "output_type": "execute_result"
    }
   ],
   "source": [
    "from py2neo import Graph\n",
    "graph = Graph(\"bolt://127.0.0.1:7687\", username=\"neo4j\", password=\"root\")\n",
    "graph.run('MATCH ()-[r]->() DELETE r')\n",
    "graph.run('MATCH (n) DELETE n')"
   ]
  },
  {
   "cell_type": "code",
   "execution_count": 60,
   "metadata": {},
   "outputs": [
    {
     "data": {
      "text/plain": [
       "<py2neo.database.Cursor at 0x7fffd6426cc0>"
      ]
     },
     "execution_count": 60,
     "metadata": {},
     "output_type": "execute_result"
    }
   ],
   "source": [
    "graph.run('MERGE (:Project {{ name:\"{}\", version:\"{}\" }})'.format(PROJECT, VERSION))"
   ]
  },
  {
   "cell_type": "code",
   "execution_count": 61,
   "metadata": {},
   "outputs": [
    {
     "name": "stderr",
     "output_type": "stream",
     "text": [
      "100%|██████████| 71/71 [00:00<00:00, 168.06it/s]\n"
     ]
    }
   ],
   "source": [
    "for m in tqdm(mod2func):\n",
    "    graph.run('MERGE (:Module {{ name:\"{}\", inProject:\"{}\" }})'.format(m, PROJECT))\n",
    "    graph.run('MATCH (p:Project {{ name:\"{}\", version:\"{}\" }}), (m:Module {{ name:\"{}\", inProject:\"{}\" }}) MERGE (p)-[:hasModule]->(m)'.format(PROJECT, VERSION, m, PROJECT))"
   ]
  },
  {
   "cell_type": "code",
   "execution_count": 62,
   "metadata": {},
   "outputs": [
    {
     "name": "stderr",
     "output_type": "stream",
     "text": [
      "100%|██████████| 71/71 [01:32<00:00,  1.30s/it]\n"
     ]
    }
   ],
   "source": [
    "for m in tqdm(mod2func):\n",
    "    for f in mod2func[m]:\n",
    "        graph.run('MERGE (:Function {{ name:\"{}\", inProject:\"{}\", inModule:\"{}\" }})'.format(f, PROJECT, m))\n",
    "        graph.run('MATCH (m:Module {{ name:\"{0}\", inProject:\"{1}\" }}), (f:Function {{ name:\"{2}\", inProject:\"{1}\", inModule:\"{0}\" }}) MERGE (m)-[:hasFunction]->(f)'.format(m, PROJECT, f))"
   ]
  },
  {
   "cell_type": "code",
   "execution_count": 63,
   "metadata": {},
   "outputs": [
    {
     "name": "stderr",
     "output_type": "stream",
     "text": [
      "100%|██████████| 71/71 [35:26<00:00, 29.96s/it]\n"
     ]
    }
   ],
   "source": [
    "for m in tqdm(mod2func):\n",
    "    for f in mod2func[m]:\n",
    "        funcFullName = '|'.join([m,f])\n",
    "        isEntry = True\n",
    "        if funcFullName in func2blk:\n",
    "            for bb in func2blk[funcFullName]:\n",
    "                graph.run('MERGE (:BasicBlock {{ name:\"{}\", inProject:\"{}\", inModule:\"{}\", inFunction:\"{}\" }})'.format(bb, PROJECT, m, f))\n",
    "                if isEntry:\n",
    "                    graph.run('MATCH (f:Function {{ name:\"{0}\", inProject:\"{1}\", inModule:\"{2}\" }}), (bb:BasicBlock {{ name:\"{3}\", inProject:\"{1}\", inModule:\"{2}\", inFunction:\"{0}\" }}) MERGE (f)-[:hasEntryBasicBlock]->(bb)'.format(f, PROJECT, m, bb))\n",
    "                    isEntry = False"
   ]
  },
  {
   "cell_type": "code",
   "execution_count": 67,
   "metadata": {},
   "outputs": [
    {
     "name": "stderr",
     "output_type": "stream",
     "text": [
      "100%|██████████| 72820/72820 [1:48:33<00:00, 11.18it/s]  \n"
     ]
    }
   ],
   "source": [
    "for bb in tqdm(blk2succ):\n",
    "    m, f, b = bb.split('|')\n",
    "    for succ in blk2succ[bb]:\n",
    "        graph.run('MATCH (b1:BasicBlock {{ name:\"{0}\", inProject:\"{1}\", inModule:\"{2}\", inFunction:\"{3}\" }}), (b2:BasicBlock {{ name:\"{4}\", inProject:\"{1}\", inModule:\"{2}\", inFunction:\"{3}\" }}) MERGE (b1)-[:hasSuccessorBasicBlock]->(b2)'.format(b, PROJECT, m, f, succ))"
   ]
  },
  {
   "cell_type": "markdown",
   "metadata": {},
   "source": [
    "开始处理`RUNTIME_LOG`"
   ]
  },
  {
   "cell_type": "code",
   "execution_count": 68,
   "metadata": {},
   "outputs": [],
   "source": [
    "RUNTIME_LOG = r'./PASS_LOG/RUNTIME_LOG'"
   ]
  },
  {
   "cell_type": "code",
   "execution_count": 69,
   "metadata": {},
   "outputs": [
    {
     "name": "stderr",
     "output_type": "stream",
     "text": [
      "100%|██████████| 193262/193262 [00:00<00:00, 218742.45it/s]"
     ]
    },
    {
     "name": "stdout",
     "output_type": "stream",
     "text": [
      "[+] Pass Check, All Runtime Info Fits the Result of Static Analysis.\n",
      "[+] visitedModules: 55/71.\n",
      "[+] visitedFunctions: 388/8397.\n",
      "[+] visitedBlocks: 2544/72820/120103.\n"
     ]
    },
    {
     "name": "stderr",
     "output_type": "stream",
     "text": [
      "\n"
     ]
    }
   ],
   "source": [
    "visitedModules = set() # 所有被访问过的模块\n",
    "visitedFunctions = set() # 所有被访问过的函数\n",
    "visitedBlocks = set() # 所有被访问过的基本块\n",
    "allBlocks = [] # 访问基本块历史记录（顺序保存）\n",
    "blk2PC = {} # 基本块b：本次执行对应的PC（b为完整名称）\n",
    "with open(RUNTIME_LOG, 'r') as fp:\n",
    "    for line in tqdm(fp.readlines()):\n",
    "        line = line.strip()\n",
    "        if '[PC] ' in line:\n",
    "            _, PC, bbGName = line.split(' ')\n",
    "            mn, fn, bn = bbGName.split('|')\n",
    "            assert mn in mod2func\n",
    "            assert '|'.join([mn,fn]) in funcSet\n",
    "            assert '|'.join([mn,fn]) in func2blk, '[!] {} {} {}'.format(line, fn, bn)\n",
    "            assert bn in func2blk['|'.join([mn,fn])], '[!] {} {} {}'.format(line, fn, bn)\n",
    "            visitedModules.add(mn) # visitedModules\n",
    "            visitedFunctions.add('|'.join([mn,fn])) # visitedFunctions\n",
    "            visitedBlocks.add(bbGName) # visitedBlocks\n",
    "            allBlocks.append(bbGName)\n",
    "            assert bbGName not in blk2PC or blk2PC[bbGName] == PC, '[+] {}'.format(line)\n",
    "            blk2PC[bbGName] = PC\n",
    "        elif '[STRCMP] ' in line:\n",
    "            pass\n",
    "        elif '[CMP] ' in line:\n",
    "            pass\n",
    "        elif '[SWITCH] ' in line:\n",
    "            pass\n",
    "        else:\n",
    "            raise Exception('[!] {}'.format(line))\n",
    "    else:\n",
    "        print('[+] Pass Check, All Runtime Info Fits the Result of Static Analysis.')\n",
    "        print('[+] visitedModules: {}/{}.'.format(len(visitedModules), len(modSet)))\n",
    "        print('[+] visitedFunctions: {}/{}.'.format(len(visitedFunctions), len(funcSet)))\n",
    "        print('[+] visitedBlocks: {}/{}/{}.'.format(len(visitedBlocks), len(blkSet), len(allBlocks)))"
   ]
  },
  {
   "cell_type": "markdown",
   "metadata": {},
   "source": [
    "```\n",
    "MATCH (<node-name>:<label-name>) SET <node-name>:<new-label-name>\n",
    "```"
   ]
  },
  {
   "cell_type": "code",
   "execution_count": null,
   "metadata": {},
   "outputs": [],
   "source": [
    "findEntry = False\n",
    "for i in tqdm(range(1, len(allBlocks))):\n",
    "    last_m, last_f, last_b = allBlocks[i-1].split('|')\n",
    "    cur_m, cur_f, cur_b = allBlocks[i].split('|')\n",
    "    if not findEntry:\n",
    "        graph.run('MATCH (b:BasicBlock {{ name:\"{0}\", inProject:\"{1}\", inModule:\"{2}\", inFunction:\"{3}\" }}) SET b:RunPathRoot:RunPathNode'.format(last_b, PROJECT, last_m, last_f))\n",
    "        graph.run('MATCH (b:BasicBlock {{ name:\"{0}\", inProject:\"{1}\", inModule:\"{2}\", inFunction:\"{3}\" }}) SET b:RunPathNode'.format(cur_b, PROJECT, cur_m, cur_f))\n",
    "        findEntry = True\n",
    "    else:\n",
    "        graph.run('MATCH (b:BasicBlock {{ name:\"{0}\", inProject:\"{1}\", inModule:\"{2}\", inFunction:\"{3}\" }}) SET b:RunPathNode'.format(cur_b, PROJECT, cur_m, cur_f))\n",
    "    graph.run('MATCH (b1:RunPathNode {{ name:\"{0}\", inProject:\"{1}\", inModule:\"{2}\", inFunction:\"{3}\" }}), (b2:RunPathNode {{ name:\"{4}\", inProject:\"{1}\", inModule:\"{5}\", inFunction:\"{6}\" }}) MERGE (b1)-[:runPathNext]->(b2)'.format(last_b, PROJECT, last_m, last_f, cur_b, cur_m, cur_f))"
   ]
  }
 ],
 "metadata": {
  "kernelspec": {
   "display_name": "Python 3",
   "language": "python",
   "name": "python3"
  },
  "language_info": {
   "codemirror_mode": {
    "name": "ipython",
    "version": 3
   },
   "file_extension": ".py",
   "mimetype": "text/x-python",
   "name": "python",
   "nbconvert_exporter": "python",
   "pygments_lexer": "ipython3",
   "version": "3.5.2"
  }
 },
 "nbformat": 4,
 "nbformat_minor": 4
}
