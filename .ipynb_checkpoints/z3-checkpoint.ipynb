{
 "cells": [
  {
   "cell_type": "code",
   "execution_count": 1,
   "metadata": {},
   "outputs": [],
   "source": [
    "# https://mp.weixin.qq.com/s/0p3LSIx4gLithuctd6IcZg\n",
    "from z3 import *"
   ]
  },
  {
   "cell_type": "code",
   "execution_count": 6,
   "metadata": {},
   "outputs": [],
   "source": [
    "x = Int('x')\n",
    "y = Int('y')\n",
    "s = Solver()\n",
    "s.add(x + y == 5)\n",
    "s.add(2*x + 3*y == 14)"
   ]
  },
  {
   "cell_type": "code",
   "execution_count": 7,
   "metadata": {},
   "outputs": [
    {
     "data": {
      "text/html": [
       "<b>sat</b>"
      ],
      "text/plain": [
       "sat"
      ]
     },
     "execution_count": 7,
     "metadata": {},
     "output_type": "execute_result"
    }
   ],
   "source": [
    "s.check()"
   ]
  },
  {
   "cell_type": "code",
   "execution_count": 8,
   "metadata": {},
   "outputs": [
    {
     "data": {
      "text/html": [
       "[y = 4, x = 1]"
      ],
      "text/plain": [
       "[y = 4, x = 1]"
      ]
     },
     "execution_count": 8,
     "metadata": {},
     "output_type": "execute_result"
    }
   ],
   "source": [
    "s.model()"
   ]
  },
  {
   "cell_type": "code",
   "execution_count": 26,
   "metadata": {},
   "outputs": [
    {
     "name": "stdout",
     "output_type": "stream",
     "text": [
      "bump\n"
     ]
    }
   ],
   "source": [
    "name = [BitVec(str(i), 8) for i in range(0, 4)]\n",
    "\n",
    "#check '76876' '77776'\n",
    "s.add(((name[0] & 1)+5+(((name[1] >> 2) & 1)+1)) == 7)\n",
    "s.add(((((name[0] >> 3) & 1)+5)+(((name[1] >> 3) & 1)+1)) == 6)\n",
    "s.add((((name[0] >> 1) & 1)+5+(((name[1] >> 4) & 1)+1)) == 8)\n",
    "s.add((((name[0] >> 2) & 1)+5+(((name[1]) & 1)+1)) == 7)\n",
    "s.add((((name[0] >> 4) & 1)+5+(((name[1] >> 1) & 1)+1)) == 6)\n",
    "s.add((((name[2]) & 1)+5+(((name[3] >> 2) & 1)+1)) == 7)\n",
    "s.add((((name[2] >> 3) & 1)+5+(((name[3] >> 3) & 1)+1)) == 7)\n",
    "s.add((((name[2] >> 1) & 1)+5+(((name[3] >> 4) & 1)+1)) == 7)\n",
    "s.add((((name[2] >> 2) & 1)+5+(((name[3]) & 1)+1)) == 7)\n",
    "s.add((((name[2] >> 4) & 1)+5+(((name[3] >> 1) & 1)+1)) == 6)\n",
    "s.add(name[3] == ord('p'))\n",
    "for i in range(0, 4):\n",
    "    s.add(name[i] >= ord('a'))\n",
    "    s.add(name[i] <= ord('z'))\n",
    "\n",
    "if s.check() == sat:\n",
    "    r = s.model()\n",
    "    print(''.join([chr(r[name[i]].as_long()) for i in range(len(name))]))"
   ]
  },
  {
   "cell_type": "code",
   "execution_count": null,
   "metadata": {},
   "outputs": [],
   "source": []
  }
 ],
 "metadata": {
  "kernelspec": {
   "display_name": "Python 3",
   "language": "python",
   "name": "python3"
  },
  "language_info": {
   "codemirror_mode": {
    "name": "ipython",
    "version": 3
   },
   "file_extension": ".py",
   "mimetype": "text/x-python",
   "name": "python",
   "nbconvert_exporter": "python",
   "pygments_lexer": "ipython3",
   "version": "3.7.3"
  }
 },
 "nbformat": 4,
 "nbformat_minor": 4
}
