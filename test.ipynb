{
 "cells": [
  {
   "cell_type": "code",
   "execution_count": 1,
   "metadata": {},
   "outputs": [],
   "source": [
    "no_lava = r'/data2/zhangzheng1/data/coreutils-8.32/errInfo'\n",
    "lava = r'/data2/zhangzheng1/data/lava_corpus/LAVA-M/md5sum/coreutils-8.24-lava-safe/errInfo'"
   ]
  },
  {
   "cell_type": "code",
   "execution_count": 2,
   "metadata": {},
   "outputs": [],
   "source": [
    "from collections import Counter\n",
    "import re\n",
    "\n",
    "def dealInfo(path):\n",
    "    c = Counter()\n",
    "    with open(path, 'r') as fp:\n",
    "        lines = fp.readlines()\n",
    "    print(len(lines))\n",
    "    for line in lines:\n",
    "        if '[PC]' in line: c['PC'] += 1\n",
    "        elif '[CMP]' in line: c['CMP'] += 1\n",
    "        elif '[SWITCH]' in line: c['SWITCH'] += 1\n",
    "        elif '[STRCMP]' in line: c['STRCMP'] += 1\n",
    "        else:\n",
    "            print('[!] {}'.format(line))\n",
    "    return c"
   ]
  },
  {
   "cell_type": "code",
   "execution_count": 3,
   "metadata": {},
   "outputs": [
    {
     "name": "stdout",
     "output_type": "stream",
     "text": [
      "216537\n",
      "[!] ./src/md5sum: /bin/chacl: No such file or directory\n",
      "\n",
      "[!] ./src/md5sum: /bin/getfacl: No such file or directory\n",
      "\n",
      "[!] ./src/md5sum: /bin/nc.traditional: No such file or directory\n",
      "\n",
      "[!] ./src/md5sum: /bin/ntfsck: No such file or directory\n",
      "\n",
      "[!] ./src/md5sum: /bin/ntfsdump_logfile: No such file or directory\n",
      "\n",
      "[!] ./src/md5sum: /bin/ntfsmftalloc: No such file or directory\n",
      "\n",
      "[!] ./src/md5sum: /bin/ping: No such file or directory\n",
      "\n",
      "[!] ./src/md5sum: /bin/ping6: No such file or directory\n",
      "\n",
      "[!] ./src/md5sum: /bin/setfacl: No such file or directory\n",
      "\n",
      "[!] ./src/md5sum: WARNING: 9 listed files could not be read\n",
      "\n",
      "[!] ./src/md5sum: WARNING: 121 computed checksums did NOT match\n",
      "\n"
     ]
    }
   ],
   "source": [
    "c1 = dealInfo(no_lava)"
   ]
  },
  {
   "cell_type": "code",
   "execution_count": 4,
   "metadata": {},
   "outputs": [
    {
     "name": "stdout",
     "output_type": "stream",
     "text": [
      "471\n"
     ]
    }
   ],
   "source": [
    "c2 = dealInfo(lava)"
   ]
  },
  {
   "cell_type": "code",
   "execution_count": 5,
   "metadata": {},
   "outputs": [
    {
     "name": "stdout",
     "output_type": "stream",
     "text": [
      "Counter({'PC': 190869, 'SWITCH': 13447, 'CMP': 12070, 'STRCMP': 140})\n",
      "Counter({'PC': 239, 'CMP': 214, 'SWITCH': 11, 'STRCMP': 7})\n"
     ]
    }
   ],
   "source": [
    "print(c1)\n",
    "print(c2)"
   ]
  },
  {
   "cell_type": "code",
   "execution_count": 6,
   "metadata": {},
   "outputs": [],
   "source": [
    "keys = sorted(c1.keys())"
   ]
  },
  {
   "cell_type": "code",
   "execution_count": 7,
   "metadata": {},
   "outputs": [
    {
     "name": "stdout",
     "output_type": "stream",
     "text": [
      "/home/zhangzheng1/.config/matplotlib\n"
     ]
    }
   ],
   "source": [
    "import matplotlib.pyplot as plt\n",
    "import matplotlib\n",
    "print(matplotlib.get_configdir())"
   ]
  },
  {
   "cell_type": "code",
   "execution_count": 12,
   "metadata": {},
   "outputs": [
    {
     "data": {
      "image/png": "[encoded data removed]",
      "text/plain": [
       "<Figure size 252x189 with 1 Axes>"
      ]
     },
     "metadata": {
      "needs_background": "light"
     },
     "output_type": "display_data"
    }
   ],
   "source": [
    "with plt.style.context(['science', 'no-latex']):\n",
    "    plt.barh(keys, [c2[k] for k in keys], label='LAVA')\n",
    "    plt.barh(keys, [-c1[k] for k in keys], label='NO LAVA')\n",
    "    plt.legend()\n",
    "    plt.show()"
   ]
  },
  {
   "cell_type": "code",
   "execution_count": null,
   "metadata": {},
   "outputs": [],
   "source": []
  }
 ],
 "metadata": {
  "kernelspec": {
   "display_name": "Python 3",
   "language": "python",
   "name": "python3"
  },
  "language_info": {
   "codemirror_mode": {
    "name": "ipython",
    "version": 3
   },
   "file_extension": ".py",
   "mimetype": "text/x-python",
   "name": "python",
   "nbconvert_exporter": "python",
   "pygments_lexer": "ipython3",
   "version": "3.7.6"
  }
 },
 "nbformat": 4,
 "nbformat_minor": 4
}
