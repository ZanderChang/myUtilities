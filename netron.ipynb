{
 "cells": [
  {
   "cell_type": "code",
   "execution_count": 18,
   "metadata": {},
   "outputs": [],
   "source": [
    "# https://lutzroeder.github.io/netron/\n",
    "from keras.models import Sequential, Model, load_model\n",
    "from keras.layers import Dense, Activation, Flatten, Input, Concatenate, Reshape\n",
    "from keras.optimizers import Adam\n",
    "import gym"
   ]
  },
  {
   "cell_type": "code",
   "execution_count": 6,
   "metadata": {},
   "outputs": [
    {
     "name": "stdout",
     "output_type": "stream",
     "text": [
      "2\n",
      "(4,)\n"
     ]
    }
   ],
   "source": [
    "env = gym.make('CartPole-v1')\n",
    "nb_actions = env.action_space.n\n",
    "nb_observation = env.observation_space.shape[0]\n",
    "print(env.action_space.n)\n",
    "print(env.observation_space.shape)"
   ]
  },
  {
   "cell_type": "code",
   "execution_count": 31,
   "metadata": {},
   "outputs": [],
   "source": [
    "actor_input = Input(shape=(1, 1500), name='actor_observation_input')\n",
    "f_actor_input = Flatten()(actor_input)\n",
    "x = Dense(512, activation='relu')(f_actor_input)\n",
    "x = Dense(128, activation='relu')(x)\n",
    "x = Dense(15, activation='relu')(x)\n",
    "x = Reshape((3, 5), name='actor_output')(x)\n",
    "actor = Model(inputs=actor_input, outputs=x)"
   ]
  },
  {
   "cell_type": "code",
   "execution_count": 33,
   "metadata": {},
   "outputs": [],
   "source": [
    "actor.save('actor.h5')"
   ]
  },
  {
   "cell_type": "code",
   "execution_count": 30,
   "metadata": {},
   "outputs": [
    {
     "name": "stdout",
     "output_type": "stream",
     "text": [
      "_________________________________________________________________\n",
      "Layer (type)                 Output Shape              Param #   \n",
      "=================================================================\n",
      "actor_observation_input (Inp (None, 1, 1500)           0         \n",
      "_________________________________________________________________\n",
      "flatten_12 (Flatten)         (None, 1500)              0         \n",
      "_________________________________________________________________\n",
      "dense_31 (Dense)             (None, 512)               768512    \n",
      "_________________________________________________________________\n",
      "dense_32 (Dense)             (None, 128)               65664     \n",
      "_________________________________________________________________\n",
      "dense_33 (Dense)             (None, 15)                1935      \n",
      "_________________________________________________________________\n",
      "actor_output (Reshape)       (None, 3, 5)              0         \n",
      "=================================================================\n",
      "Total params: 836,111\n",
      "Trainable params: 836,111\n",
      "Non-trainable params: 0\n",
      "_________________________________________________________________\n"
     ]
    }
   ],
   "source": [
    "actor.summary()"
   ]
  },
  {
   "cell_type": "code",
   "execution_count": null,
   "metadata": {},
   "outputs": [],
   "source": []
  }
 ],
 "metadata": {
  "kernelspec": {
   "display_name": "Python 3",
   "language": "python",
   "name": "python3"
  },
  "language_info": {
   "codemirror_mode": {
    "name": "ipython",
    "version": 3
   },
   "file_extension": ".py",
   "mimetype": "text/x-python",
   "name": "python",
   "nbconvert_exporter": "python",
   "pygments_lexer": "ipython3",
   "version": "3.7.3"
  }
 },
 "nbformat": 4,
 "nbformat_minor": 4
}
