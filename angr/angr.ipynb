{
 "cells": [
  {
   "cell_type": "code",
   "execution_count": 1,
   "metadata": {},
   "outputs": [],
   "source": [
    "import angr\n",
    "from angrutils import *"
   ]
  },
  {
   "cell_type": "code",
   "execution_count": 555,
   "metadata": {},
   "outputs": [],
   "source": [
    "# binary = '/data2/zhangzheng1/data/example-c/build/src/test_string'\n",
    "# binary = './test'\n",
    "binary = '/usr/bin/base64'\n",
    "\n",
    "p = angr.Project(binary, auto_load_libs=False)"
   ]
  },
  {
   "cell_type": "code",
   "execution_count": 545,
   "metadata": {},
   "outputs": [],
   "source": [
    "# main = p.loader.main_object.get_symbol(\"main\")\n",
    "# print(hex(main.rebased_addr))\n",
    "# print(hex(p.entry))"
   ]
  },
  {
   "cell_type": "code",
   "execution_count": 556,
   "metadata": {},
   "outputs": [
    {
     "name": "stderr",
     "output_type": "stream",
     "text": [
      "WARNING | 2020-07-02 12:14:44,430 | \u001b[32mangr.state_plugins.symbolic_memory\u001b[0m | \u001b[32mFilling memory at 0x7ffffffffff00a0 with 8 unconstrained bytes referenced from 0x4031b1 (PLT.__gmon_start__+0x1a81 in base64 (0x4031b1))\u001b[0m\n",
      "WARNING | 2020-07-02 12:14:44,433 | \u001b[32mangr.state_plugins.symbolic_memory\u001b[0m | \u001b[32mFilling memory at 0x7ffffffffff00a8 with 8 unconstrained bytes referenced from 0x4031b2 (PLT.__gmon_start__+0x1a82 in base64 (0x4031b2))\u001b[0m\n",
      "WARNING | 2020-07-02 12:14:44,436 | \u001b[32mangr.state_plugins.symbolic_memory\u001b[0m | \u001b[32mFilling memory at 0x7ffffffffff00b0 with 8 unconstrained bytes referenced from 0x4031b3 (PLT.__gmon_start__+0x1a83 in base64 (0x4031b3))\u001b[0m\n",
      "WARNING | 2020-07-02 12:14:44,438 | \u001b[32mangr.state_plugins.symbolic_memory\u001b[0m | \u001b[32mFilling memory at 0x7ffffffffff00b8 with 8 unconstrained bytes referenced from 0x4031b5 (PLT.__gmon_start__+0x1a85 in base64 (0x4031b5))\u001b[0m\n",
      "WARNING | 2020-07-02 12:14:44,440 | \u001b[32mangr.state_plugins.symbolic_memory\u001b[0m | \u001b[32mFilling memory at 0x7ffffffffff00c0 with 8 unconstrained bytes referenced from 0x4031b7 (PLT.__gmon_start__+0x1a87 in base64 (0x4031b7))\u001b[0m\n",
      "WARNING | 2020-07-02 12:14:44,443 | \u001b[32mangr.state_plugins.symbolic_memory\u001b[0m | \u001b[32mFilling memory at 0x7ffffffffff00c8 with 8 unconstrained bytes referenced from 0x4031b9 (PLT.__gmon_start__+0x1a89 in base64 (0x4031b9))\u001b[0m\n",
      "WARNING | 2020-07-02 12:14:44,445 | \u001b[32mangr.state_plugins.symbolic_memory\u001b[0m | \u001b[32mFilling memory at 0x7ffffffffff00d0 with 8 unconstrained bytes referenced from 0x4031bb (PLT.__gmon_start__+0x1a8b in base64 (0x4031bb))\u001b[0m\n"
     ]
    }
   ],
   "source": [
    "# cfg = p.analyses.CFGEmulated(fail_fast=True, starts=[main.rebased_addr])\n",
    "cfg = p.analyses.CFGFast()"
   ]
  },
  {
   "cell_type": "code",
   "execution_count": 557,
   "metadata": {},
   "outputs": [],
   "source": [
    "# cfg.kb.functions.get('main').get_call_sites()"
   ]
  },
  {
   "cell_type": "code",
   "execution_count": 558,
   "metadata": {},
   "outputs": [],
   "source": [
    "# for b in sorted(cfg.kb.functions.get('main').blocks, key=lambda x: x.addr):\n",
    "#     b.pp()\n",
    "#     print()"
   ]
  },
  {
   "cell_type": "code",
   "execution_count": 559,
   "metadata": {},
   "outputs": [],
   "source": [
    "# [b for b in cfg.kb.functions.get('__libc_start_main').blocks][0].pp()"
   ]
  },
  {
   "cell_type": "code",
   "execution_count": 560,
   "metadata": {},
   "outputs": [],
   "source": [
    "# cfg.kb.functions.get('main')"
   ]
  },
  {
   "cell_type": "code",
   "execution_count": 561,
   "metadata": {},
   "outputs": [],
   "source": [
    "def checkNop(blk): # 检查blk全部为nop的情况\n",
    "    try:\n",
    "        if not blk: return True\n",
    "        if blk.size == 0: return True\n",
    "        return all([blk.capstone.insns[i].insn.insn_name() == 'nop' for i in range(blk.instructions)])\n",
    "    except Exception as e:\n",
    "        print('[NOP]{} {}'.format(blk, blk.size))\n",
    "        return False\n",
    "\n",
    "def getcov(func, s):\n",
    "\n",
    "    blkList = list(func.blocks)\n",
    "\n",
    "    for blk in blkList: # 遍历该函数所有block\n",
    "        if blk.addr not in s:\n",
    "            s.add(blk.addr)\n",
    "            \n",
    "            node = cfg.get_node(blk.addr) # 将block转换为node\n",
    "\n",
    "            if node.has_return or checkNop(blk): # 该block包含ret则不遍历successors或全部为nop指令\n",
    "                s.add(node.addr)\n",
    "            else:\n",
    "                for ns in node.successors: # 遍历该block的后续block\n",
    "                    if ns.addr not in s:\n",
    "                        if ns.has_return or checkNop(ns.block): # 同上\n",
    "                            s.add(ns.addr)\n",
    "                        else:\n",
    "                            if ns.addr in func.block_addrs: # func内条件跳转（angr解析func得到的blk会少一部份）\n",
    "                                continue\n",
    "                            else:\n",
    "                                try:\n",
    "                                    new_func = cfg.kb.functions.get_by_addr(ns.addr) # jmp或call调用其它函数\n",
    "                                    getcov(new_func, s) # 递归解析下一个函数\n",
    "                                except KeyError as e: # func内跳转到angr未解析为该func的blk\n",
    "                                    blkList.append(ns.block)\n",
    "#                                     print('[!] {} {} {}'.format(func.name, hex(blk.addr), hex(ns.addr)))\n",
    "                                    continue\n",
    "    \n",
    "    return len(s)"
   ]
  },
  {
   "cell_type": "code",
   "execution_count": 562,
   "metadata": {},
   "outputs": [
    {
     "name": "stdout",
     "output_type": "stream",
     "text": [
      "[+] Functions: 381\n",
      "[+] Nodes: 1495\n"
     ]
    }
   ],
   "source": [
    "print('[+] Functions: {}'.format(len(list(cfg.kb.functions.items()))))\n",
    "print('[+] Nodes: {}'.format(len(cfg.graph.nodes())))"
   ]
  },
  {
   "cell_type": "code",
   "execution_count": 553,
   "metadata": {},
   "outputs": [
    {
     "name": "stderr",
     "output_type": "stream",
     "text": [
      "100%|██████████| 381/381 [00:02<00:00, 133.23it/s]\n"
     ]
    }
   ],
   "source": [
    "from tqdm import tqdm\n",
    "\n",
    "func2cov = {}\n",
    "\n",
    "for addr, func in tqdm(cfg.kb.functions.items()):\n",
    "    if func.name not in func2cov:\n",
    "        func2cov[func.name] = getcov(func, set())\n",
    "    else:\n",
    "        func2cov[func.name] = max(func2cov[func.name], getcov(func, set()))"
   ]
  },
  {
   "cell_type": "code",
   "execution_count": 563,
   "metadata": {},
   "outputs": [
    {
     "name": "stdout",
     "output_type": "stream",
     "text": [
      "[+] 58.73%\n"
     ]
    }
   ],
   "source": [
    "main_cov = getcov(cfg.kb.functions.get('main'), set())\n",
    "all_blk = len(cfg.graph.nodes())\n",
    "print('[+] {:.2%}'.format(main_cov/all_blk))"
   ]
  },
  {
   "cell_type": "code",
   "execution_count": 526,
   "metadata": {},
   "outputs": [],
   "source": [
    "# sub_403162 0x40318f 0x403b9f\n",
    "# func = cfg.functions.get('sub_402e10')\n",
    "# # print(0x402e10 <= 0x403a10 < 0x40343f)\n",
    "# for b in sorted(func.blocks, key=lambda x: x.addr):\n",
    "# # for b in func.blocks:\n",
    "# #     if b.addr == 0x40336a:\n",
    "#     b.pp()\n",
    "#     print()\n",
    "# print(hex(func.addr))\n",
    "# print(hex(func.addr+func.size))\n",
    "# print(func.size)"
   ]
  },
  {
   "cell_type": "code",
   "execution_count": 527,
   "metadata": {},
   "outputs": [],
   "source": [
    "# 0x403162 in func.block_addrs"
   ]
  },
  {
   "cell_type": "code",
   "execution_count": 528,
   "metadata": {},
   "outputs": [],
   "source": [
    "# cfg.get_node(0x403162).block.pp()"
   ]
  },
  {
   "cell_type": "code",
   "execution_count": 529,
   "metadata": {},
   "outputs": [
    {
     "name": "stdout",
     "output_type": "stream",
     "text": [
      "sub_402c10 20\n",
      "setlocale 2\n",
      "bindtextdomain 2\n",
      "textdomain 2\n",
      "sub_405a30 5\n",
      "getopt_long 2\n",
      "sub_4044f0 331\n",
      "dcgettext 2\n",
      "fopen 2\n",
      "error 2\n",
      "sub_4049b0 63\n",
      "sub_4020a0 63\n",
      "exit 2\n",
      "sub_4020a0 63\n",
      "dcgettext 2\n",
      "sub_402be0 8\n",
      "sub_4042d0 342\n",
      "sub_404e30 403\n",
      "__errno_location 2\n",
      "sub_401d70 98\n",
      "sub_401ae0 135\n",
      "error 2\n",
      "sub_405400 46\n",
      "sub_4042d0 342\n",
      "dcgettext 2\n",
      "__errno_location 2\n",
      "__errno_location 2\n",
      "error 2\n",
      "error 2\n",
      "main: 55 878\n"
     ]
    }
   ],
   "source": [
    "main = cfg.functions.get('main')\n",
    "blkcnt = 0\n",
    "for blk in main.blocks:\n",
    "    blkcnt += 1\n",
    "    for s in cfg.get_node(blk.addr).successors:\n",
    "        if not (main.addr <= s.addr <= main.addr + main.size):\n",
    "            name = cfg.functions.get_by_addr(s.addr).name\n",
    "            print('{} {}'.format(name, func2cov[name]))\n",
    "print('main: {} {}'.format(blkcnt, func2cov['main']))"
   ]
  },
  {
   "cell_type": "code",
   "execution_count": 530,
   "metadata": {},
   "outputs": [
    {
     "name": "stdout",
     "output_type": "stream",
     "text": [
      "main: 878\n",
      "sub_40366a: 468\n",
      "sub_402b20: 409\n",
      "sub_404e30: 403\n",
      "sub_404d20: 401\n",
      "sub_4040e2: 344\n",
      "sub_404143: 344\n",
      "sub_4041b0: 344\n",
      "sub_4041c0: 344\n",
      "sub_4040f7: 342\n",
      "sub_40415c: 342\n",
      "sub_4042d0: 342\n",
      "sub_404450: 338\n",
      "sub_404460: 338\n",
      "sub_404480: 338\n",
      "sub_404390: 337\n",
      "sub_4041cc: 335\n",
      "sub_404290: 332\n",
      "sub_4042a0: 332\n",
      "sub_4042c0: 332\n",
      "sub_404080: 331\n",
      "sub_4040a0: 331\n",
      "sub_4040b0: 331\n",
      "sub_4040d0: 331\n",
      "sub_4044a0: 331\n",
      "sub_4044b0: 331\n",
      "sub_4044d0: 331\n",
      "sub_4044f0: 331\n",
      "sub_403bb0: 330\n",
      "sub_403ed2: 304\n",
      "sub_403fd0: 304\n",
      "sub_403efb: 302\n",
      "sub_4037bb: 284\n",
      "sub_403e60: 284\n",
      "sub_403771: 282\n",
      "sub_402e10: 279\n",
      "sub_402e9a: 279\n",
      "sub_403162: 279\n",
      "sub_402d40: 174\n",
      "sub_4055a0: 156\n"
     ]
    }
   ],
   "source": [
    "for f in sorted(func2cov, key=lambda x: func2cov[x], reverse=True)[:40]:\n",
    "    print('{}: {}'.format(f, func2cov[f]))"
   ]
  },
  {
   "cell_type": "code",
   "execution_count": 113,
   "metadata": {},
   "outputs": [],
   "source": [
    "# plot_cfg(cfg, \"test\", asminst=True, remove_imports=True, remove_path_terminator=True)"
   ]
  },
  {
   "cell_type": "code",
   "execution_count": null,
   "metadata": {},
   "outputs": [],
   "source": []
  }
 ],
 "metadata": {
  "kernelspec": {
   "display_name": "angr",
   "language": "python",
   "name": "angr"
  },
  "language_info": {
   "codemirror_mode": {
    "name": "ipython",
    "version": 3
   },
   "file_extension": ".py",
   "mimetype": "text/x-python",
   "name": "python",
   "nbconvert_exporter": "python",
   "pygments_lexer": "ipython3",
   "version": "3.8.3"
  }
 },
 "nbformat": 4,
 "nbformat_minor": 4
}
