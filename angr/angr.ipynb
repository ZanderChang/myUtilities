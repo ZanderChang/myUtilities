{
 "cells": [
  {
   "cell_type": "code",
   "execution_count": null,
   "metadata": {},
   "outputs": [],
   "source": [
    "import angr\n",
    "from angrutils import *"
   ]
  },
  {
   "cell_type": "code",
   "execution_count": null,
   "metadata": {},
   "outputs": [],
   "source": [
    "# binary = '/data2/zhangzheng1/data/example-c/build/src/test_string'\n",
    "# binary = './test'\n",
    "binary = '/usr/bin/base64'\n",
    "\n",
    "p = angr.Project(binary, auto_load_libs=False)"
   ]
  },
  {
   "cell_type": "code",
   "execution_count": null,
   "metadata": {},
   "outputs": [],
   "source": [
    "# main = p.loader.main_object.get_symbol(\"main\")\n",
    "# print(hex(main.rebased_addr))\n",
    "# print(hex(p.entry))"
   ]
  },
  {
   "cell_type": "code",
   "execution_count": null,
   "metadata": {},
   "outputs": [],
   "source": [
    "# cfg = p.analyses.CFGEmulated(fail_fast=True, starts=[main.rebased_addr])\n",
    "cfg = p.analyses.CFGFast()"
   ]
  },
  {
   "cell_type": "code",
   "execution_count": 26,
   "metadata": {},
   "outputs": [
    {
     "data": {
      "text/plain": [
       "dict_keys([4200256, 4200295, 4200310, 4200325, 4200335, 4200345, 4200542, 4200551, 4200645, 4200571, 4200484, 4200588, 4200524, 4200406, 4200430, 4200670, 4200877, 4200447, 4200892, 4200750, 4200688, 4200900, 4200707, 4200827, 4200783, 4200842, 4200800, 4200850, 4200808])"
      ]
     },
     "execution_count": 26,
     "metadata": {},
     "output_type": "execute_result"
    }
   ],
   "source": [
    "cfg.kb.functions.get('main').get_call_sites()"
   ]
  },
  {
   "cell_type": "code",
   "execution_count": null,
   "metadata": {},
   "outputs": [],
   "source": [
    "# for b in sorted(cfg.kb.functions.get('main').blocks, key=lambda x: x.addr):\n",
    "#     b.pp()\n",
    "#     print()"
   ]
  },
  {
   "cell_type": "code",
   "execution_count": null,
   "metadata": {},
   "outputs": [],
   "source": [
    "# [b for b in cfg.kb.functions.get('__libc_start_main').blocks][0].pp()"
   ]
  },
  {
   "cell_type": "code",
   "execution_count": null,
   "metadata": {},
   "outputs": [],
   "source": [
    "# cfg.kb.functions.get('main')"
   ]
  },
  {
   "cell_type": "code",
   "execution_count": null,
   "metadata": {},
   "outputs": [],
   "source": [
    "def checkNop(blk): # 检查blk全部为nop的情况\n",
    "    try:\n",
    "        if not blk: return True\n",
    "        if blk.size == 0: return True\n",
    "        return all([blk.capstone.insns[i].insn.insn_name() == 'nop' for i in range(blk.instructions)])\n",
    "    except Exception as e:\n",
    "        print('[NOP]{} {}'.format(blk, blk.size))\n",
    "        return False\n",
    "\n",
    "def getcov(func, s):\n",
    "\n",
    "    blkList = list(func.blocks)\n",
    "\n",
    "    for blk in blkList: # 遍历该函数所有block\n",
    "        if blk.addr not in s:\n",
    "            s.add(blk.addr)\n",
    "            \n",
    "            node = cfg.get_node(blk.addr) # 将block转换为node\n",
    "\n",
    "            if node.has_return or checkNop(blk): # 该block包含ret则不遍历successors或全部为nop指令\n",
    "                s.add(node.addr)\n",
    "            else:\n",
    "                for ns in node.successors: # 遍历该block的后续block\n",
    "                    if ns.addr not in s:\n",
    "                        if ns.has_return or checkNop(ns.block): # 同上\n",
    "                            s.add(ns.addr)\n",
    "                        else:\n",
    "                            if ns.addr in func.block_addrs: # func内条件跳转（angr解析func得到的blk会少一部份）\n",
    "                                continue\n",
    "                            else:\n",
    "                                try:\n",
    "                                    new_func = cfg.kb.functions.get_by_addr(ns.addr) # jmp或call调用其它函数\n",
    "                                    getcov(new_func, s) # 递归解析下一个函数\n",
    "                                except KeyError as e: # func内跳转到angr未解析为该func的blk\n",
    "                                    blkList.append(ns.block)\n",
    "#                                     print('[!] {} {} {}'.format(func.name, hex(blk.addr), hex(ns.addr)))\n",
    "                                    continue\n",
    "    \n",
    "    return len(s)"
   ]
  },
  {
   "cell_type": "code",
   "execution_count": null,
   "metadata": {},
   "outputs": [],
   "source": [
    "print('[+] Functions: {}'.format(len(list(cfg.kb.functions.items()))))\n",
    "print('[+] Nodes: {}'.format(len(cfg.graph.nodes())))"
   ]
  },
  {
   "cell_type": "code",
   "execution_count": null,
   "metadata": {},
   "outputs": [],
   "source": [
    "from tqdm import tqdm\n",
    "\n",
    "func2cov = {}\n",
    "\n",
    "for addr, func in tqdm(cfg.kb.functions.items()):\n",
    "    if func.name not in func2cov:\n",
    "        func2cov[func.name] = getcov(func, set())\n",
    "    else:\n",
    "        func2cov[func.name] = max(func2cov[func.name], getcov(func, set()))"
   ]
  },
  {
   "cell_type": "code",
   "execution_count": null,
   "metadata": {},
   "outputs": [],
   "source": [
    "main_cov = getcov(cfg.kb.functions.get('main'), set())\n",
    "all_blk = len(cfg.graph.nodes())\n",
    "print('[+] {:.2%}'.format(main_cov/all_blk))"
   ]
  },
  {
   "cell_type": "code",
   "execution_count": null,
   "metadata": {},
   "outputs": [],
   "source": [
    "# sub_403162 0x40318f 0x403b9f\n",
    "func = cfg.functions.get('sub_402e10')\n",
    "# print(0x402e10 <= 0x403a10 < 0x40343f)\n",
    "for b in sorted(func.blocks, key=lambda x: x.addr):\n",
    "# for b in func.blocks:\n",
    "#     if b.addr == 0x40336a:\n",
    "    b.pp()\n",
    "    print()\n",
    "# print(hex(func.addr))\n",
    "# print(hex(func.addr+func.size))\n",
    "# print(func.size)"
   ]
  },
  {
   "cell_type": "code",
   "execution_count": null,
   "metadata": {},
   "outputs": [],
   "source": [
    "# 0x403162 in func.block_addrs"
   ]
  },
  {
   "cell_type": "code",
   "execution_count": 22,
   "metadata": {},
   "outputs": [
    {
     "name": "stdout",
     "output_type": "stream",
     "text": [
      "0x403162:\tsub\trsp, 8\n",
      "0x403166:\tmov\tr8d, r15d\n",
      "0x403169:\tmov\trcx, r13\n",
      "0x40316c:\tpush\tqword ptr [rsp + 0x58]\n",
      "0x403170:\tpush\tqword ptr [rsp + 0x68]\n",
      "0x403174:\tmov\trsi, r10\n",
      "0x403177:\tpush\t0\n",
      "0x403179:\tmov\tr9d, dword ptr [rsp + 0x58]\n",
      "0x40317e:\tmov\trdi, r14\n",
      "0x403181:\tmov\trdx, qword ptr [rsp + 0x38]\n",
      "0x403186:\tand\tr9d, 0xfffffffd\n",
      "0x40318a:\tcall\t0x402e10\n"
     ]
    }
   ],
   "source": [
    "cfg.get_node(0x403162).block.pp()"
   ]
  },
  {
   "cell_type": "code",
   "execution_count": 23,
   "metadata": {},
   "outputs": [
    {
     "data": {
      "text/plain": [
       "[<CFGNode 0x402e10[109]>]"
      ]
     },
     "execution_count": 23,
     "metadata": {},
     "output_type": "execute_result"
    }
   ],
   "source": [
    "cfg.get_node(0x403162).predecessors"
   ]
  },
  {
   "cell_type": "code",
   "execution_count": null,
   "metadata": {},
   "outputs": [],
   "source": [
    "main = cfg.functions.get('main')\n",
    "blkcnt = 0\n",
    "for blk in main.blocks:\n",
    "    blkcnt += 1\n",
    "    for s in cfg.get_node(blk.addr).successors:\n",
    "        if not (main.addr <= s.addr <= main.addr + main.size):\n",
    "            name = cfg.functions.get_by_addr(s.addr).name\n",
    "            print('{} {}'.format(name, func2cov[name]))\n",
    "print('main: {} {}'.format(blkcnt, func2cov['main']))"
   ]
  },
  {
   "cell_type": "code",
   "execution_count": null,
   "metadata": {},
   "outputs": [],
   "source": [
    "for f in sorted(func2cov, key=lambda x: func2cov[x], reverse=True)[:40]:\n",
    "    print('{}: {}'.format(f, func2cov[f]))"
   ]
  },
  {
   "cell_type": "code",
   "execution_count": null,
   "metadata": {},
   "outputs": [],
   "source": [
    "plot_cfg(cfg, \"test\", asminst=True, remove_imports=True, remove_path_terminator=True)"
   ]
  },
  {
   "cell_type": "code",
   "execution_count": 27,
   "metadata": {},
   "outputs": [
    {
     "data": {
      "text/plain": [
       "dict_keys([4200256, 4200295, 4200310, 4200325, 4200335, 4200345, 4200368, 4200609, 4200377, 4200625, 4200542, 4200598, 4200386, 4200639, 4200635, 4200551, 4200388, 4200416, 4200734, 4200645, 4200571, 4200484, 4200395, 4200531, 4200421, 4200741, 4200658, 4200588, 4200524, 4200406, 4200430, 4200670, 4200877, 4200447, 4200683, 4200892, 4200476, 4200750, 4200688, 4200900, 4200768, 4200707, 4200922, 4200715, 4200770, 4200720, 4200776, 4200827, 4200783, 4200842, 4200800, 4200850, 4200808, 4200872, 4200825])"
      ]
     },
     "execution_count": 27,
     "metadata": {},
     "output_type": "execute_result"
    }
   ],
   "source": [
    "main.block_addrs"
   ]
  },
  {
   "cell_type": "code",
   "execution_count": null,
   "metadata": {},
   "outputs": [],
   "source": []
  }
 ],
 "metadata": {
  "kernelspec": {
   "display_name": "Angr",
   "language": "python",
   "name": "angr"
  },
  "language_info": {
   "codemirror_mode": {
    "name": "ipython",
    "version": 3
   },
   "file_extension": ".py",
   "mimetype": "text/x-python",
   "name": "python",
   "nbconvert_exporter": "python",
   "pygments_lexer": "ipython3",
   "version": "3.8.3"
  }
 },
 "nbformat": 4,
 "nbformat_minor": 4
}
