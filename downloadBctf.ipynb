{
 "cells": [
  {
   "cell_type": "code",
   "execution_count": 26,
   "metadata": {},
   "outputs": [],
   "source": [
    "import requests\n",
    "import json\n",
    "import os\n",
    "import urllib.request\n",
    "import time"
   ]
  },
  {
   "cell_type": "code",
   "execution_count": 19,
   "metadata": {},
   "outputs": [],
   "source": [
    "url = 'https://anquan.baidu.com/bctf/latest_round.php'"
   ]
  },
  {
   "cell_type": "code",
   "execution_count": 28,
   "metadata": {},
   "outputs": [
    {
     "name": "stdout",
     "output_type": "stream",
     "text": [
      "[+] 200_PopCalc_a64f3637_70_200_004_61986.tar\n",
      "[+] 100_PopCalc_85d9df45_70_100_mutation0_65947.tar\n",
      "[+] 90_Crash_29b90857_70_90_003_49061.tar\n",
      "[+] 30_Crash_b5a9a70b_70_30_002_33845.tar\n",
      "[+] 30_Crash_df4499ea_70_30_003_44515.tar\n",
      "[+] 1_Crash_0f16a60c_70_1_mutation7_16864.tar\n",
      "[!] Same: 200_PopCalc_a64f3637_70_200_004_61986.tar\n",
      "[!] Same: 100_PopCalc_85d9df45_70_100_mutation0_65947.tar\n",
      "[!] Same: 90_Crash_29b90857_70_90_003_49061.tar\n",
      "[!] Same: 30_Crash_b5a9a70b_70_30_002_33845.tar\n",
      "[!] Same: 30_Crash_df4499ea_70_30_003_44515.tar\n",
      "[!] Same: 1_Crash_0f16a60c_70_1_mutation7_16864.tar\n",
      "[+] 1_Crash_e2040a00_72_1_mutation8_79683.tar\n",
      "[+] 100_PopCalc_85d9df45_72_100_mutation0_94609.tar\n",
      "[+] 30_Crash_df4499ea_72_30_003_49092.tar\n",
      "[!] Same: 1_Crash_e2040a00_72_1_mutation8_79683.tar\n",
      "[!] Same: 100_PopCalc_85d9df45_72_100_mutation0_94609.tar\n",
      "[!] Same: 30_Crash_df4499ea_72_30_003_49092.tar\n",
      "[!] Same: 1_Crash_e2040a00_72_1_mutation8_79683.tar\n",
      "[!] Same: 100_PopCalc_85d9df45_72_100_mutation0_94609.tar\n",
      "[!] Same: 30_Crash_df4499ea_72_30_003_49092.tar\n",
      "[!] Same: 1_Crash_e2040a00_72_1_mutation8_79683.tar\n",
      "[!] Same: 100_PopCalc_85d9df45_72_100_mutation0_94609.tar\n",
      "[!] Same: 30_Crash_df4499ea_72_30_003_49092.tar\n",
      "[!] Same: 1_Crash_e2040a00_72_1_mutation8_79683.tar\n",
      "[!] Same: 100_PopCalc_85d9df45_72_100_mutation0_94609.tar\n",
      "[!] Same: 30_Crash_df4499ea_72_30_003_49092.tar\n",
      "[!] Same: 1_Crash_e2040a00_72_1_mutation8_79683.tar\n",
      "[!] Same: 100_PopCalc_85d9df45_72_100_mutation0_94609.tar\n",
      "[!] Same: 30_Crash_df4499ea_72_30_003_49092.tar\n",
      "[!] Same: 1_Crash_e2040a00_72_1_mutation8_79683.tar\n",
      "[!] Same: 100_PopCalc_85d9df45_72_100_mutation0_94609.tar\n",
      "[!] Same: 30_Crash_df4499ea_72_30_003_49092.tar\n"
     ]
    },
    {
     "ename": "KeyError",
     "evalue": "'CurrentChallenge'",
     "output_type": "error",
     "traceback": [
      "\u001b[0;31m---------------------------------------------------------------------------\u001b[0m",
      "\u001b[0;31mKeyError\u001b[0m                                  Traceback (most recent call last)",
      "\u001b[0;32m<ipython-input-28-037041099e69>\u001b[0m in \u001b[0;36m<module>\u001b[0;34m()\u001b[0m\n\u001b[1;32m      5\u001b[0m     \u001b[0mreq\u001b[0m \u001b[0;34m=\u001b[0m \u001b[0mrequests\u001b[0m\u001b[0;34m.\u001b[0m\u001b[0mget\u001b[0m\u001b[0;34m(\u001b[0m\u001b[0murl\u001b[0m\u001b[0;34m)\u001b[0m\u001b[0;34m\u001b[0m\u001b[0;34m\u001b[0m\u001b[0m\n\u001b[1;32m      6\u001b[0m     \u001b[0;32mif\u001b[0m \u001b[0mreq\u001b[0m\u001b[0;34m.\u001b[0m\u001b[0mstatus_code\u001b[0m \u001b[0;34m==\u001b[0m \u001b[0;36m200\u001b[0m\u001b[0;34m:\u001b[0m\u001b[0;34m\u001b[0m\u001b[0;34m\u001b[0m\u001b[0m\n\u001b[0;32m----> 7\u001b[0;31m         \u001b[0mdata\u001b[0m \u001b[0;34m=\u001b[0m \u001b[0mjson\u001b[0m\u001b[0;34m.\u001b[0m\u001b[0mloads\u001b[0m\u001b[0;34m(\u001b[0m\u001b[0mreq\u001b[0m\u001b[0;34m.\u001b[0m\u001b[0mtext\u001b[0m\u001b[0;34m)\u001b[0m\u001b[0;34m[\u001b[0m\u001b[0;34m'CurrentChallenge'\u001b[0m\u001b[0;34m]\u001b[0m\u001b[0;34m\u001b[0m\u001b[0;34m\u001b[0m\u001b[0m\n\u001b[0m\u001b[1;32m      8\u001b[0m         \u001b[0;32mfor\u001b[0m \u001b[0md\u001b[0m \u001b[0;32min\u001b[0m \u001b[0mdata\u001b[0m\u001b[0;34m:\u001b[0m\u001b[0;34m\u001b[0m\u001b[0;34m\u001b[0m\u001b[0m\n\u001b[1;32m      9\u001b[0m             \u001b[0mname\u001b[0m \u001b[0;34m=\u001b[0m \u001b[0;34m'{}_{}'\u001b[0m\u001b[0;34m.\u001b[0m\u001b[0mformat\u001b[0m\u001b[0;34m(\u001b[0m\u001b[0md\u001b[0m\u001b[0;34m[\u001b[0m\u001b[0;34m'score'\u001b[0m\u001b[0;34m]\u001b[0m\u001b[0;34m,\u001b[0m \u001b[0md\u001b[0m\u001b[0;34m[\u001b[0m\u001b[0;34m'cb_url'\u001b[0m\u001b[0;34m]\u001b[0m\u001b[0;34m.\u001b[0m\u001b[0msplit\u001b[0m\u001b[0;34m(\u001b[0m\u001b[0;34m'/'\u001b[0m\u001b[0;34m)\u001b[0m\u001b[0;34m[\u001b[0m\u001b[0;34m-\u001b[0m\u001b[0;36m1\u001b[0m\u001b[0;34m]\u001b[0m\u001b[0;34m)\u001b[0m\u001b[0;34m\u001b[0m\u001b[0;34m\u001b[0m\u001b[0m\n",
      "\u001b[0;31mKeyError\u001b[0m: 'CurrentChallenge'"
     ]
    }
   ],
   "source": [
    "names = []\n",
    "crash_path = './bctf/Crash'\n",
    "popcalc_path = './bctf/PopCalc'\n",
    "while True:\n",
    "    req = requests.get(url)\n",
    "    if req.status_code == 200:\n",
    "        data = json.loads(req.text)['CurrentChallenge']\n",
    "        for d in data:\n",
    "            name = '{}_{}'.format(d['score'], d['cb_url'].split('/')[-1])\n",
    "            if name not in names:\n",
    "                names.append(name)\n",
    "                if d['score_method'] == 'Crash':\n",
    "                    p = os.path.join(crash_path, name)\n",
    "                else: # 'PopCalc'\n",
    "                    p = os.path.join(popcalc_path, name)\n",
    "                urllib.request.urlretrieve(d['cb_url'], filename=p)\n",
    "                print('[+] {}'.format(name))\n",
    "            else:\n",
    "                print('[!] Same: {}'.format(name))\n",
    "    time.sleep(5*60)"
   ]
  },
  {
   "cell_type": "code",
   "execution_count": null,
   "metadata": {},
   "outputs": [],
   "source": []
  }
 ],
 "metadata": {
  "kernelspec": {
   "display_name": "Python 3",
   "language": "python",
   "name": "python3"
  },
  "language_info": {
   "codemirror_mode": {
    "name": "ipython",
    "version": 3
   },
   "file_extension": ".py",
   "mimetype": "text/x-python",
   "name": "python",
   "nbconvert_exporter": "python",
   "pygments_lexer": "ipython3",
   "version": "3.7.3"
  }
 },
 "nbformat": 4,
 "nbformat_minor": 4
}
