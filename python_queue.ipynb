{
 "cells": [
  {
   "cell_type": "code",
   "execution_count": 1,
   "metadata": {},
   "outputs": [],
   "source": [
    "from queue import Queue\n",
    "from threading import Thread\n",
    "from time import sleep"
   ]
  },
  {
   "cell_type": "code",
   "execution_count": 2,
   "metadata": {},
   "outputs": [],
   "source": [
    "q = Queue(maxsize=20)"
   ]
  },
  {
   "cell_type": "code",
   "execution_count": 3,
   "metadata": {},
   "outputs": [],
   "source": [
    "def producer():\n",
    "    global q\n",
    "    for i in range(5):\n",
    "        q.put(i)\n",
    "        print('[P]: {}-{}'.format(i, q.qsize()))\n",
    "        sleep(1)\n",
    "    print('[P] Producer end.')"
   ]
  },
  {
   "cell_type": "code",
   "execution_count": 4,
   "metadata": {},
   "outputs": [],
   "source": [
    "def consumer():\n",
    "    global q\n",
    "    for _ in range(5):\n",
    "        n = q.get()\n",
    "        print('[C]: {}-{}'.format(n, q.qsize()))\n",
    "#     q.task_done()\n",
    "    print('[C] Consumer end.')"
   ]
  },
  {
   "cell_type": "code",
   "execution_count": 5,
   "metadata": {},
   "outputs": [
    {
     "name": "stdout",
     "output_type": "stream",
     "text": [
      "[+] Producer start...\n",
      "[P]: 0-1\n",
      "[+] Consumer start...\n",
      "[C]: 0-0\n",
      "[+] Finish.\n",
      "[P]: 1-1[C]: 1-0\n",
      "\n",
      "[P]: 2-1[C]: 2-0\n",
      "\n",
      "[P]: 3-1[C]: 3-0\n",
      "\n",
      "[P]: 4-1[C]: 4-0\n",
      "\n",
      "[C] Consumer end.\n",
      "[P] Producer end.\n"
     ]
    }
   ],
   "source": [
    "t1 = Thread(target=producer)\n",
    "t2 = Thread(target=consumer)\n",
    "print('[+] Producer start...')\n",
    "t1.start()\n",
    "# t1.join()\n",
    "print('[+] Consumer start...')\n",
    "t2.start()\n",
    "# t2.join()\n",
    "# q.join()\n",
    "# print('[+] Finish.')"
   ]
  },
  {
   "cell_type": "code",
   "execution_count": 1,
   "metadata": {},
   "outputs": [
    {
     "name": "stdout",
     "output_type": "stream",
     "text": [
      "[NbConvertApp] Converting notebook python_queue.ipynb to python\n",
      "[NbConvertApp] Writing 747 bytes to python_queue.py\n",
      "\u001b[0m"
     ]
    }
   ],
   "source": [
    "!jupyter nbconvert --to python python_queue.ipynb"
   ]
  },
  {
   "cell_type": "code",
   "execution_count": 8,
   "metadata": {},
   "outputs": [
    {
     "name": "stdout",
     "output_type": "stream",
     "text": [
      "[C] Wait for p.\n",
      "[P] Send {} 1\n",
      "[C] Get 1\n",
      "[P] Send {} 2\n",
      "[C] Get 2\n",
      "[P] Send {} 3\n",
      "[C] Get 3\n",
      "[P] Send {} 4\n",
      "[C] Get 4\n",
      "[P] Send {} 5\n",
      "[C] Get 5\n"
     ]
    }
   ],
   "source": [
    "def consumer():\n",
    "    print('[C] Wait for p.')\n",
    "    while True:\n",
    "        bone = yield\n",
    "        print('[C] Get {}'.format(bone))\n",
    "\n",
    "def producer(c):\n",
    "    c.send(None)\n",
    "    for b in range(1,6):\n",
    "        print('[P] Send {}',format(b))\n",
    "        c.send(b)\n",
    "\n",
    "producer(consumer())"
   ]
  },
  {
   "cell_type": "code",
   "execution_count": 9,
   "metadata": {},
   "outputs": [],
   "source": [
    "import greenlet"
   ]
  },
  {
   "cell_type": "code",
   "execution_count": 13,
   "metadata": {},
   "outputs": [
    {
     "name": "stdout",
     "output_type": "stream",
     "text": [
      "[P] Send {} 1\n",
      "[C] Wait for p.\n",
      "[C] Get 1\n",
      "[P] Send {} 2\n",
      "[C] Get 1\n",
      "[P] Send {} 3\n",
      "[C] Get 1\n",
      "[P] Send {} 4\n",
      "[C] Get 1\n",
      "[P] Send {} 5\n",
      "[C] Get 1\n"
     ]
    }
   ],
   "source": [
    "def consumer():\n",
    "    print('[C] Wait for p.')\n",
    "    while True:\n",
    "        print('[C] Get {}'.format(1))\n",
    "        gr2.switch()\n",
    "\n",
    "def producer():\n",
    "    for b in range(1,6):\n",
    "        print('[P] Send {}',format(b))\n",
    "        gr1.switch()\n",
    "\n",
    "gr1 = greenlet.greenlet(consumer)\n",
    "gr2 = greenlet.greenlet(producer)\n",
    "gr2.switch()"
   ]
  },
  {
   "cell_type": "code",
   "execution_count": null,
   "metadata": {},
   "outputs": [],
   "source": []
  }
 ],
 "metadata": {
  "kernelspec": {
   "display_name": "Python 3",
   "language": "python",
   "name": "python3"
  },
  "language_info": {
   "codemirror_mode": {
    "name": "ipython",
    "version": 3
   },
   "file_extension": ".py",
   "mimetype": "text/x-python",
   "name": "python",
   "nbconvert_exporter": "python",
   "pygments_lexer": "ipython3",
   "version": "3.7.3"
  }
 },
 "nbformat": 4,
 "nbformat_minor": 4
}
