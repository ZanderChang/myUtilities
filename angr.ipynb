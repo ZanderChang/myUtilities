{
 "cells": [
  {
   "cell_type": "code",
   "execution_count": 65,
   "metadata": {},
   "outputs": [],
   "source": [
    "import angr\n",
    "from angr import sim_options as so\n",
    "import claripy\n",
    "from angrutils import plot_cfg\n",
    "import os"
   ]
  },
  {
   "cell_type": "code",
   "execution_count": 103,
   "metadata": {},
   "outputs": [],
   "source": [
    "# binary = '/home/bupt1112/data/bctf/popcalc_001/bin/cb'\n",
    "# binary = '/home/bupt1112/data/bctf/crash_001/bin/cb'\n",
    "# binary = '/home/bupt1112/codes/myUtilities/angr_exit'\n",
    "binary = '/home/bupt1112/codes/myUtilities/angr__exit'\n",
    "# binary = '/home/bupt1112/codes/myUtilities/angr_return'\n",
    "p = angr.Project(binary, auto_load_libs=False)"
   ]
  },
  {
   "cell_type": "code",
   "execution_count": 104,
   "metadata": {},
   "outputs": [
    {
     "name": "stdout",
     "output_type": "stream",
     "text": [
      "0x804846b\n",
      "0x8048370\n"
     ]
    }
   ],
   "source": [
    "main = p.loader.main_object.get_symbol(\"main\")\n",
    "print(hex(main.rebased_addr))\n",
    "print(hex(p.entry))"
   ]
  },
  {
   "cell_type": "code",
   "execution_count": 105,
   "metadata": {},
   "outputs": [],
   "source": [
    "cfg = p.analyses.CFGEmulated(fail_fast=True, starts=[main.rebased_addr])\n",
    "# cfg = p.analyses.CFGFast()"
   ]
  },
  {
   "cell_type": "code",
   "execution_count": 106,
   "metadata": {},
   "outputs": [],
   "source": [
    "plot_cfg(cfg, os.path.basename(binary), asminst=True, remove_imports=True, remove_path_terminator=True)"
   ]
  },
  {
   "cell_type": "code",
   "execution_count": 107,
   "metadata": {},
   "outputs": [],
   "source": [
    "# es = p.factory.entry_state(add_options={so.REVERSE_MEMORY_NAME_MAP}, stdin=angr.SimFileStream)\n",
    "# sm = p.factory.simulation_manager(es, save_unconstrained=True)\n",
    "es = p.factory.full_init_state()\n",
    "sm = p.factory.simulation_manager(es, save_unconstrained=True)"
   ]
  },
  {
   "cell_type": "code",
   "execution_count": 108,
   "metadata": {},
   "outputs": [
    {
     "name": "stderr",
     "output_type": "stream",
     "text": [
      "WARNING | 2020-06-29 19:39:59,071 | \u001b[32mangr.state_plugins.symbolic_memory\u001b[0m | \u001b[32mFilling register edi with 4 unconstrained bytes referenced from 0x80484b1 (__libc_csu_init+0x1 in angr__exit (0x80484b1))\u001b[0m\n",
      "WARNING | 2020-06-29 19:39:59,074 | \u001b[32mangr.state_plugins.symbolic_memory\u001b[0m | \u001b[32mFilling register ebx with 4 unconstrained bytes referenced from 0x80484b3 (__libc_csu_init+0x3 in angr__exit (0x80484b3))\u001b[0m\n",
      "WARNING | 2020-06-29 19:39:59,171 | \u001b[32mangr.state_plugins.symbolic_memory\u001b[0m | \u001b[32mFilling memory at 0x7ffefffc with 67 unconstrained bytes referenced from 0x8100008 (puts+0x0 in extern-address space (0x8))\u001b[0m\n",
      "WARNING | 2020-06-29 19:39:59,172 | \u001b[32mangr.state_plugins.symbolic_memory\u001b[0m | \u001b[32mFilling memory at 0x7ffeff40 with 4 unconstrained bytes referenced from 0x8100008 (puts+0x0 in extern-address space (0x8))\u001b[0m\n",
      "WARNING | 2020-06-29 19:39:59,232 | \u001b[32mangr.state_plugins.symbolic_memory\u001b[0m | \u001b[32mFilling memory at 0x7ffeff24 with 4 unconstrained bytes referenced from 0x80484c2 (__libc_csu_init+0x12 in angr__exit (0x80484c2))\u001b[0m\n",
      "WARNING | 2020-06-29 19:39:59,266 | \u001b[32mangr.state_plugins.symbolic_memory\u001b[0m | \u001b[32mFilling memory at 0x7ffeff28 with 4 unconstrained bytes referenced from 0x80484ef (__libc_csu_init+0x3f in angr__exit (0x80484ef))\u001b[0m\n"
     ]
    },
    {
     "name": "stdout",
     "output_type": "stream",
     "text": [
      "[!] No found.\n"
     ]
    }
   ],
   "source": [
    "states = []\n",
    "def overflow_filter(simgr):\n",
    "#     if len(simgr.active) > 0:\n",
    "#         print(simgr.active[0].regs.ip)\n",
    "    for path in simgr.unconstrained:\n",
    "\n",
    "        state = path.state\n",
    "\n",
    "        eip = state.regs.pc\n",
    "        bits = state.arch.bits\n",
    "        state_copy = state.copy()\n",
    "\n",
    "        # Constrain pc to 0x41414141 or 0x41414141414141 'A'\n",
    "        constraints = []\n",
    "        for i in range(bits / 8):\n",
    "            curr_byte = eip.get_byte(i)\n",
    "            constraint = claripy.And(curr_byte == 0x41)\n",
    "            constraints.append(constraint)\n",
    "\n",
    "        # Check satisfiability\n",
    "        if state_copy.se.satisfiable(extra_constraints=constraints):\n",
    "            for constraint in constraints:\n",
    "                state_copy.add_constraints(constraint)\n",
    "\n",
    "            # Check by input\n",
    "            stdin_str = str(state_copy.posix.dumps(0).replace('\\x00', '').replace('\\x01', ''))\n",
    "            print('[+] {}'.format(stdin_str))\n",
    "            if 'A' in stdin_str:\n",
    "\n",
    "                # Constrain EIP to 0x41414141 or 0x4141414141414141\n",
    "                constraints = []\n",
    "                for i in range(bits / 8):\n",
    "                    curr_byte = eip.get_byte(i)\n",
    "                    constraint = claripy.And(curr_byte == 0x41)\n",
    "                    constraints.append(constraint)\n",
    "\n",
    "                # Constrain STDIN to printable if we can\n",
    "                if state.se.satisfiable(extra_constraints=constraints):\n",
    "                    for constraint in constraints:\n",
    "                        state.add_constraints(constraint)\n",
    "\n",
    "                # Constrain rest of input to be printable\n",
    "                stdin = state.posix.files[0]\n",
    "                constraints = []\n",
    "                #stdin_size = len(stdin.all_bytes())\n",
    "                stdin_size = 300\n",
    "                stdin.length = stdin_size\n",
    "                stdin.seek(0)\n",
    "                stdin_bytes = stdin.all_bytes()\n",
    "                for i in range(stdin_size):\n",
    "                    curr_byte = stdin.read_from(1)\n",
    "                    constraint = claripy.And(urr_byte > 0x2F, curr_byte < 0x7F)\n",
    "                    if state.se.satisfiable(extra_constraints=[constraint]):\n",
    "                        constraints.append(constraint)\n",
    "\n",
    "                # Constrain STDIN to printable if we can\n",
    "                if state.se.satisfiable(extra_constraints=constraints):\n",
    "                    for constraint in constraints:\n",
    "                        state.add_constraints(constraint)\n",
    "\n",
    "                # Get the string coming into STDIN\n",
    "                stdin_str = repr(str(state.posix.dumps(0).replace('\\x00', '').replace('\\x01', '')))\n",
    "                print(\"[+] Vulnerable path found {}\".format(stdin_str))\n",
    "                state.globals['type'] = \"Overflow\"\n",
    "                simgr.stashes['found'].append(path)\n",
    "                simgr.stashes['unconstrained'].remove(path)\n",
    "\n",
    "    return simgr\n",
    "\n",
    "end_state = None\n",
    "\n",
    "sm.explore(find=lambda s: 'type' in s.globals, step_func=overflow_filter)\n",
    "if 'found' in sm.stashes and len(sm.found):\n",
    "    end_state = sm.found[0]\n",
    "else:\n",
    "    print('[!] No found.')"
   ]
  },
  {
   "cell_type": "code",
   "execution_count": 109,
   "metadata": {},
   "outputs": [
    {
     "data": {
      "text/plain": [
       "<SimulationManager with all stashes empty (1 errored)>"
      ]
     },
     "execution_count": 109,
     "metadata": {},
     "output_type": "execute_result"
    }
   ],
   "source": [
    "sm"
   ]
  },
  {
   "cell_type": "code",
   "execution_count": 110,
   "metadata": {},
   "outputs": [
    {
     "data": {
      "text/plain": [
       "<State errored with \"No bytes in memory for block starting at 0x0.\">"
      ]
     },
     "execution_count": 110,
     "metadata": {},
     "output_type": "execute_result"
    }
   ],
   "source": [
    "sm.errored[0]"
   ]
  },
  {
   "cell_type": "code",
   "execution_count": 73,
   "metadata": {},
   "outputs": [
    {
     "data": {
      "text/plain": [
       "[<SimActionData LinuxLoader() reg/write>,\n",
       " <SimActionData LinuxLoader() reg/write>,\n",
       " <SimActionData LinuxLoader() reg/write>,\n",
       " <SimActionData LinuxLoader() reg/write>,\n",
       " <SimActionData __libc_start_main() reg/read>,\n",
       " <SimActionData __libc_start_main() mem/read>,\n",
       " <SimActionData __libc_start_main() reg/read>,\n",
       " <SimActionData __libc_start_main() mem/read>,\n",
       " <SimActionData __libc_start_main() reg/read>,\n",
       " <SimActionData __libc_start_main() mem/read>,\n",
       " <SimActionData __libc_start_main() reg/read>,\n",
       " <SimActionData __libc_start_main() mem/read>,\n",
       " <SimActionData __libc_start_main() reg/read>,\n",
       " <SimActionData __libc_start_main() mem/read>,\n",
       " <SimActionData __libc_start_main() reg/read>,\n",
       " <SimActionData __libc_start_main() reg/read>,\n",
       " <SimActionData __libc_start_main() reg/read>,\n",
       " <SimActionData __libc_start_main() reg/read>,\n",
       " <SimActionData __libc_start_main() reg/read>,\n",
       " <SimActionData __libc_start_main() reg/read>,\n",
       " <SimActionData __libc_start_main() reg/read>,\n",
       " <SimActionData __libc_start_main() mem/write>,\n",
       " <SimActionData __libc_start_main() reg/read>,\n",
       " <SimActionData __libc_start_main() reg/write>,\n",
       " <SimActionData __libc_start_main() reg/read>,\n",
       " <SimActionData __libc_start_main() reg/read>,\n",
       " <SimActionData __libc_start_main() reg/write>,\n",
       " <SimActionData __libc_start_main() reg/read>,\n",
       " <SimActionData __libc_start_main() reg/read>,\n",
       " <SimActionData __libc_start_main() reg/write>,\n",
       " <SimActionData __libc_start_main() reg/read>,\n",
       " <SimActionData __libc_start_main() mem/write>,\n",
       " <SimActionData __libc_start_main() reg/read>,\n",
       " <SimActionData __libc_start_main() mem/write>,\n",
       " <SimActionData __libc_start_main() reg/read>,\n",
       " <SimActionData __libc_start_main() mem/write>,\n",
       " <SimActionData __libc_start_main() reg/read>,\n",
       " <SimActionData __libc_start_main() mem/write>,\n",
       " <SimActionData __libc_start_main() reg/write>,\n",
       " <SimActionData __libc_start_main() mem/read>,\n",
       " <SimActionData __libc_start_main() reg/write>,\n",
       " <SimActionData __libc_start_main() reg/read>,\n",
       " <SimActionData __libc_start_main() reg/read>,\n",
       " <SimActionData __libc_start_main() reg/write>,\n",
       " <SimActionData __libc_start_main() reg/read>,\n",
       " <SimActionData __libc_start_main() reg/read>,\n",
       " <SimActionData __libc_start_main() reg/write>,\n",
       " <SimActionData __libc_start_main() reg/read>,\n",
       " <SimActionData __libc_start_main() reg/read>,\n",
       " <SimActionData __libc_start_main() reg/write>,\n",
       " <SimActionData __libc_start_main() reg/read>,\n",
       " <SimActionData __libc_start_main() mem/write>,\n",
       " <SimActionData __libc_start_main() reg/read>,\n",
       " <SimActionData __libc_start_main() mem/write>,\n",
       " <SimActionData __libc_start_main() reg/read>,\n",
       " <SimActionData __libc_start_main() mem/write>,\n",
       " <SimActionData __libc_start_main() reg/read>,\n",
       " <SimActionData __libc_start_main() mem/write>,\n",
       " <SimActionData __libc_start_main() reg/write>,\n",
       " <SimActionData __libc_start_main() mem/read>,\n",
       " <SimActionData puts() reg/read>,\n",
       " <SimActionData puts() mem/read>,\n",
       " <SimActionData puts() reg/read>,\n",
       " <SimActionData puts() mem/read>,\n",
       " <SimActionData puts() mem/read>,\n",
       " <SimActionData puts() reg/write>,\n",
       " <SimActionData puts() reg/read>,\n",
       " <SimActionData puts() mem/read>,\n",
       " <SimActionData puts() reg/read>,\n",
       " <SimActionData puts() reg/write>,\n",
       " <SimActionData puts() reg/write>,\n",
       " <SimActionData puts() reg/read>,\n",
       " <SimActionData puts() mem/read>,\n",
       " <SimActionData puts() reg/read>,\n",
       " <SimActionData puts() mem/read>,\n",
       " <SimActionData puts() mem/read>,\n",
       " <SimActionData puts() mem/read>,\n",
       " <SimActionData puts() reg/write>,\n",
       " <SimActionData puts() reg/read>,\n",
       " <SimActionData puts() mem/read>,\n",
       " <SimActionData puts() reg/read>,\n",
       " <SimActionData puts() reg/write>,\n",
       " <SimActionData puts() reg/write>,\n",
       " <SimActionData puts() reg/read>,\n",
       " <SimActionData puts() mem/read>,\n",
       " <SimActionData puts() reg/read>,\n",
       " <SimActionData puts() mem/read>,\n",
       " <SimActionData puts() mem/read>,\n",
       " <SimActionData puts() reg/write>,\n",
       " <SimActionData puts() reg/read>,\n",
       " <SimActionData puts() mem/read>,\n",
       " <SimActionData puts() reg/read>,\n",
       " <SimActionData puts() reg/write>,\n",
       " <SimActionData puts() reg/write>,\n",
       " <SimActionData gets() reg/write>,\n",
       " <SimActionData gets() reg/read>,\n",
       " <SimActionData gets() mem/read>,\n",
       " <SimActionData gets() reg/read>,\n",
       " <SimActionData gets() reg/write>,\n",
       " <SimActionData gets() reg/write>,\n",
       " <SimActionData puts() reg/read>,\n",
       " <SimActionData puts() mem/read>,\n",
       " <SimActionData puts() reg/read>,\n",
       " <SimActionData puts() mem/read>,\n",
       " <SimActionData puts() mem/read>,\n",
       " <SimActionData puts() reg/write>,\n",
       " <SimActionData puts() reg/read>,\n",
       " <SimActionData puts() mem/read>,\n",
       " <SimActionData puts() reg/read>,\n",
       " <SimActionData puts() reg/write>,\n",
       " <SimActionData puts() reg/write>,\n",
       " <SimActionData _exit() reg/read>,\n",
       " <SimActionData _exit() mem/read>,\n",
       " <SimActionData _exit() reg/write>,\n",
       " <SimActionData _exit() reg/read>,\n",
       " <SimActionData _exit() mem/read>,\n",
       " <SimActionData _exit() reg/read>,\n",
       " <SimActionData _exit() reg/write>,\n",
       " <SimActionData _exit() reg/write>,\n",
       " <SimActionData system() reg/read>,\n",
       " <SimActionData system() mem/read>,\n",
       " <SimActionData system() reg/write>,\n",
       " <SimActionData system() reg/read>,\n",
       " <SimActionData system() mem/read>,\n",
       " <SimActionData system() reg/read>,\n",
       " <SimActionData system() reg/write>,\n",
       " <SimActionData system() reg/write>,\n",
       " <SimActionData _exit() reg/read>,\n",
       " <SimActionData _exit() mem/read>,\n",
       " <SimActionData _exit() reg/write>,\n",
       " <SimActionData _exit() reg/read>,\n",
       " <SimActionData _exit() mem/read>,\n",
       " <SimActionData _exit() reg/read>,\n",
       " <SimActionData _exit() reg/write>,\n",
       " <SimActionData _exit() reg/write>,\n",
       " <SimActionData puts() reg/read>,\n",
       " <SimActionData puts() mem/read>,\n",
       " <SimActionData puts() reg/read>,\n",
       " <SimActionData puts() mem/read>,\n",
       " <SimActionData puts() mem/read>,\n",
       " <SimActionData puts() reg/write>,\n",
       " <SimActionData puts() reg/read>,\n",
       " <SimActionData puts() mem/read>,\n",
       " <SimActionData puts() reg/read>,\n",
       " <SimActionData puts() reg/write>,\n",
       " <SimActionData puts() reg/write>,\n",
       " <SimActionData gets() reg/write>,\n",
       " <SimActionData gets() reg/read>,\n",
       " <SimActionData gets() mem/read>,\n",
       " <SimActionData gets() reg/read>,\n",
       " <SimActionData gets() reg/write>,\n",
       " <SimActionData gets() reg/write>]"
      ]
     },
     "execution_count": 73,
     "metadata": {},
     "output_type": "execute_result"
    }
   ],
   "source": [
    "[b for b in sm.errored[0].state.history.actions]"
   ]
  },
  {
   "cell_type": "code",
   "execution_count": null,
   "metadata": {},
   "outputs": [],
   "source": []
  }
 ],
 "metadata": {
  "kernelspec": {
   "display_name": "Angr",
   "language": "python",
   "name": "angr"
  },
  "language_info": {
   "codemirror_mode": {
    "name": "ipython",
    "version": 3
   },
   "file_extension": ".py",
   "mimetype": "text/x-python",
   "name": "python",
   "nbconvert_exporter": "python",
   "pygments_lexer": "ipython3",
   "version": "3.8.3"
  }
 },
 "nbformat": 4,
 "nbformat_minor": 4
}
